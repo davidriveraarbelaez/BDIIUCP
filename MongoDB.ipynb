{
  "nbformat": 4,
  "nbformat_minor": 0,
  "metadata": {
    "colab": {
      "provenance": [],
      "authorship_tag": "ABX9TyMPpXbw7O+Qfhd+PLWVhkZW",
      "include_colab_link": true
    },
    "kernelspec": {
      "name": "python3",
      "display_name": "Python 3"
    },
    "language_info": {
      "name": "python"
    }
  },
  "cells": [
    {
      "cell_type": "markdown",
      "metadata": {
        "id": "view-in-github",
        "colab_type": "text"
      },
      "source": [
        "<a href=\"https://colab.research.google.com/github/davidriveraarbelaez/BDIIUCP/blob/main/MongoDB.ipynb\" target=\"_parent\"><img src=\"https://colab.research.google.com/assets/colab-badge.svg\" alt=\"Open In Colab\"/></a>"
      ]
    },
    {
      "cell_type": "markdown",
      "source": [
        "**Método 1: Usando PyMongo**\n",
        "\n",
        "Paso 1: Instalar PyMongo Instalar la librería PyMongo para interactuar con MongoDB:"
      ],
      "metadata": {
        "id": "30luzEL9paXc"
      }
    },
    {
      "cell_type": "code",
      "source": [
        "!pip install pymongo"
      ],
      "metadata": {
        "id": "xi46OgTLpcPw"
      },
      "execution_count": null,
      "outputs": []
    },
    {
      "cell_type": "markdown",
      "source": [
        "Paso 2: Importar PyMongo y establecer la conexión Importa las librerías necesarias y establece una conexión con tu instancia de MongoDB:"
      ],
      "metadata": {
        "id": "M_34nrdXpg7J"
      }
    },
    {
      "cell_type": "code",
      "source": [
        "import pymongo\n",
        "from pymongo import MongoClient\n",
        "\n",
        "# Reemplazar con MongoDB URI\n",
        "uri = 'mongodb_uri'\n",
        "client = MongoClient(uri)"
      ],
      "metadata": {
        "id": "mOnJM9zKpglQ"
      },
      "execution_count": 3,
      "outputs": []
    },
    {
      "cell_type": "markdown",
      "source": [
        "Paso 3: Realizar operaciones de base de datos Ahora puede realizar diversas operaciones de base de datos, como crear bases de datos, colecciones y documentos:"
      ],
      "metadata": {
        "id": "DggQdfJdpnGz"
      }
    },
    {
      "cell_type": "code",
      "source": [
        "# Crear base de datos\n",
        "db = client['mydatabase']\n",
        "\n",
        "# Crear una colección\n",
        "collection = db['mycollection']\n",
        "\n",
        "# Insertar un documento\n",
        "collection.insert_one({'name': 'John', 'age': 30})\n",
        "\n",
        "# Encontrar un documento\n",
        "print(list(collection.find()))"
      ],
      "metadata": {
        "id": "rT9MDcW_prUA"
      },
      "execution_count": null,
      "outputs": []
    },
    {
      "cell_type": "markdown",
      "source": [
        "Method 2: Running MongoDB Server in Colab\n"
      ],
      "metadata": {
        "id": "FyvOE8Jppv0k"
      }
    },
    {
      "cell_type": "markdown",
      "source": [
        "Paso 1: Instalar el servidor MongoDB Descargue e instale el servidor MongoDB:"
      ],
      "metadata": {
        "id": "uPQXG1BfqK91"
      }
    },
    {
      "cell_type": "code",
      "source": [
        "!wget -qO - https://fastdl.mongodb.org/linux/mongodb-linux-x86_64-ubuntu1804-4.0.10.tgz | tar -zxvf -\n",
        "!mkdir -p /data/db"
      ],
      "metadata": {
        "id": "LyYW3258pvgo"
      },
      "execution_count": null,
      "outputs": []
    },
    {
      "cell_type": "markdown",
      "source": [
        "Paso 2: Iniciar el servidor MongoDB Inicie el servidor MongoDB:"
      ],
      "metadata": {
        "id": "JXVndBX1qRz0"
      }
    },
    {
      "cell_type": "code",
      "source": [
        "!mongodb-linux-x86_64-ubuntu1804-4.0.10/bin/mongod --dbpath /data/db --nojournal &"
      ],
      "metadata": {
        "colab": {
          "base_uri": "https://localhost:8080/"
        },
        "id": "X8vfj8A5qVoR",
        "outputId": "4e7e11e4-6cc7-4583-9545-fe617f0c3d2d"
      },
      "execution_count": 6,
      "outputs": [
        {
          "output_type": "stream",
          "name": "stdout",
          "text": [
            "mongodb-linux-x86_64-ubuntu1804-4.0.10/bin/mongod: error while loading shared libraries: libcrypto.so.1.1: cannot open shared object file: No such file or directory\n"
          ]
        }
      ]
    },
    {
      "cell_type": "markdown",
      "source": [
        "Paso 3: Conectarse al servidor MongoDB Utilice PyMongo para conectarse al servidor MongoDB en ejecución:"
      ],
      "metadata": {
        "id": "6BK61PyFqe-I"
      }
    },
    {
      "cell_type": "code",
      "source": [
        "import pymongo\n",
        "from pymongo import MongoClient"
      ],
      "metadata": {
        "id": "Ycmyafw_qkAZ"
      },
      "execution_count": 7,
      "outputs": []
    },
    {
      "cell_type": "code",
      "source": [
        "client = MongoClient('localhost', 27017)\n",
        "db = client['mydatabase']\n",
        "collection = db['mycollection']"
      ],
      "metadata": {
        "id": "c3rxSB4jqlv8"
      },
      "execution_count": 8,
      "outputs": []
    },
    {
      "cell_type": "markdown",
      "source": [
        "**Buenas prácticas y consejos**\n",
        "\n",
        "Asegurarse de realizar copias de seguridad de nuestros datos, ya que los entornos Colab son temporales.\n",
        "\n",
        "Utilizar servicios externos como Atlas para el almacenamiento persistente.\n",
        "\n",
        "Supervisar y gestionar regularmente las conexiones de su base de datos."
      ],
      "metadata": {
        "id": "ua5aJ1Wuqsig"
      }
    }
  ]
}